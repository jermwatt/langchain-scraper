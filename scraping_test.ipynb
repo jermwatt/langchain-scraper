{
 "cells": [
  {
   "cell_type": "code",
   "execution_count": 2,
   "metadata": {},
   "outputs": [],
   "source": [
    "import os\n",
    "import pandas as pd\n",
    "from langchain.chains import LLMChain\n",
    "from langchain.prompts import PromptTemplate\n",
    "from langchain.llms import OpenAI, AI21\n",
    "from langchain.output_parsers import StructuredOutputParser, ResponseSchema\n",
    "from dotenv import load_dotenv\n",
    "\n",
    "# Load API keys from .env file\n",
    "def load_api_keys():\n",
    "    # Load variables from .env file into os.environ\n",
    "    load_dotenv()\n",
    "\n",
    "    # Get variables from os.environ\n",
    "    key = os.environ[\"OPENAI_API_KEY\"]\n",
    "    key = os.environ[\"AI21_API_KEY\"]\n",
    "    key = os.environ[\"SERPAPI_API_KEY\"]\n",
    "\n",
    "# Set LLM\n",
    "def set_llm():\n",
    "    # load llm with deterministic setting\n",
    "    llm = OpenAI(temperature=0)\n",
    "    # llm = AI21(temperature=0)\n",
    "\n",
    "    return llm\n",
    "\n",
    "# response schema for the output parser\n",
    "response_schemas = [\n",
    "    ResponseSchema(name=\"first_name\", description=\"first name of investigator\"),\n",
    "    ResponseSchema(name=\"last_name\", description=\"last name of investigator\"),\n",
    "    ResponseSchema(name=\"org_name\", description=\"name of organization\"),\n",
    "    ResponseSchema(name=\"email\", description=\"email address of investigator\"),\n",
    "    ResponseSchema(name=\"position\", description=\"position of investigator\"),\n",
    "]\n",
    "\n",
    "# generate formatting instructions to tack onto the prompt\n",
    "output_parser = StructuredOutputParser.from_response_schemas(response_schemas)\n",
    "format_instructions = output_parser.get_format_instructions()\n",
    "\n",
    "# construct prompt\n",
    "prompt_one = PromptTemplate(\n",
    "    input_variables=['first_name','last_name', 'org_name'],\n",
    "    partial_variables={'format_instructions': format_instructions},\n",
    "    template=\"answer the users question as best as possible.\\n{format_instructions}\\nwhat is the email address and academic department of {first_name} {last_name} from {org_name}?  are they an assistant professor, associate professor, full professor, or none of these?\",\n",
    ")\n",
    "\n",
    "# load in API keys\n",
    "load_api_keys()\n",
    "\n",
    "# construct llm\n",
    "llm = set_llm()\n",
    "\n",
    "# construct chain\n",
    "parser_chain = LLMChain(llm=llm, prompt=prompt_one)\n",
    "\n",
    "def run_parser_chain(parser_chain,first_name, last_name, org_name):\n",
    "    # run chain\n",
    "    answer = parser_chain.run(first_name=first_name, last_name=last_name, org_name=org_name)\n",
    "\n",
    "    # parse output\n",
    "    parsed_answer = output_parser.parse(answer)\n",
    "    return parsed_answer"
   ]
  },
  {
   "cell_type": "code",
   "execution_count": 3,
   "metadata": {},
   "outputs": [
    {
     "name": "stdout",
     "output_type": "stream",
     "text": [
      "Finished 1 of 10\n",
      "Finished 2 of 10\n",
      "Finished 3 of 10\n",
      "Max count reached. Breaking loop.\n"
     ]
    }
   ],
   "source": [
    "# load load in sample\n",
    "data = pd.read_csv(\"datasets/upitt_data.csv\",nrows=10).to_dict('records')\n",
    "\n",
    "# run chain - gather email, department, and position for each investigator\n",
    "final_datapoints = []\n",
    "max_count = 2\n",
    "for ind,row in enumerate(data):\n",
    "    first_name= row['investigator_first_name']\n",
    "    last_name= row['investigator_last_name']\n",
    "    org_name= row['org_name']\n",
    "\n",
    "    try:\n",
    "        parsed_answer = run_parser_chain(parser_chain,first_name, last_name, org_name)\n",
    "        final_datapoints.append(parsed_answer)\n",
    "    except Exception as e:\n",
    "        print(e)\n",
    "        pass\n",
    "\n",
    "    # print progress\n",
    "    print(f\"Finished {ind+1} of {len(data)}\")\n",
    "\n",
    "    # break if max count reached\n",
    "    if ind >= max_count:\n",
    "        print(\"Max count reached. Breaking loop.\")\n",
    "        break"
   ]
  },
  {
   "cell_type": "code",
   "execution_count": 4,
   "metadata": {},
   "outputs": [
    {
     "data": {
      "text/plain": [
       "[{'first_name': 'Paula',\n",
       "  'last_name': 'Monaghan-Nichols',\n",
       "  'org_name': 'University of Pittsburgh at Pittsburgh',\n",
       "  'email': 'paulamn@pitt.edu',\n",
       "  'position': 'Assistant Professor'},\n",
       " {'first_name': 'Aaron',\n",
       "  'last_name': 'Barchowsky',\n",
       "  'org_name': 'University of Pittsburgh at Pittsburgh',\n",
       "  'email': 'abarchow@pitt.edu',\n",
       "  'position': 'Assistant Professor'},\n",
       " {'first_name': 'Aaron',\n",
       "  'last_name': 'Batista',\n",
       "  'org_name': 'University of Pittsburgh at Pittsburgh',\n",
       "  'email': 'abatista@pitt.edu',\n",
       "  'position': 'Assistant Professor'}]"
      ]
     },
     "execution_count": 4,
     "metadata": {},
     "output_type": "execute_result"
    }
   ],
   "source": [
    "final_datapoints"
   ]
  }
 ],
 "metadata": {
  "kernelspec": {
   "display_name": "langchain-tutorials-_3KVsnaY-py3.10",
   "language": "python",
   "name": "python3"
  },
  "language_info": {
   "codemirror_mode": {
    "name": "ipython",
    "version": 3
   },
   "file_extension": ".py",
   "mimetype": "text/x-python",
   "name": "python",
   "nbconvert_exporter": "python",
   "pygments_lexer": "ipython3",
   "version": "3.10.4"
  },
  "orig_nbformat": 4
 },
 "nbformat": 4,
 "nbformat_minor": 2
}
