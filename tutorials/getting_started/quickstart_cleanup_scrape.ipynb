{
 "cells": [
  {
   "cell_type": "code",
   "execution_count": 14,
   "metadata": {},
   "outputs": [],
   "source": [
    "from dotenv import load_dotenv\n",
    "import os\n",
    "from langchain.agents import load_tools\n",
    "from langchain.agents import initialize_agent\n",
    "from langchain.llms import OpenAI\n",
    "\n",
    "def load_api_keys():\n",
    "    # Load variables from .env file into os.environ\n",
    "    load_dotenv()\n",
    "\n",
    "    # Get variables from os.environ\n",
    "    key = os.environ[\"OPENAI_API_KEY\"]\n",
    "    key = os.environ[\"AI21_API_KEY\"]\n",
    "    key = os.environ[\"SERPAPI_API_KEY\"]\n",
    "\n",
    "load_api_keys()\n",
    "\n",
    "def set_llm():\n",
    "    # load llm with deterministic setting\n",
    "    llm = OpenAI(temperature=0)\n",
    "\n",
    "    return llm\n",
    "\n",
    "llm= set_llm()\n",
    "\n",
    "\n",
    "def set_agent():\n",
    "    # load llm with deterministic setting\n",
    "    llm = OpenAI(temperature=0)\n",
    "\n",
    "    # set tools\n",
    "    tools = load_tools([\"serpapi\"], llm=llm)\n",
    "\n",
    "    # set agent type\n",
    "    agent = initialize_agent(tools, llm, agent=\"zero-shot-react-description\", verbose=False)\n",
    "\n",
    "    return agent\n",
    "\n",
    "agent = set_agent()"
   ]
  },
  {
   "cell_type": "code",
   "execution_count": 5,
   "metadata": {},
   "outputs": [
    {
     "data": {
      "text/html": [
       "<div>\n",
       "<style scoped>\n",
       "    .dataframe tbody tr th:only-of-type {\n",
       "        vertical-align: middle;\n",
       "    }\n",
       "\n",
       "    .dataframe tbody tr th {\n",
       "        vertical-align: top;\n",
       "    }\n",
       "\n",
       "    .dataframe thead th {\n",
       "        text-align: right;\n",
       "    }\n",
       "</style>\n",
       "<table border=\"1\" class=\"dataframe\">\n",
       "  <thead>\n",
       "    <tr style=\"text-align: right;\">\n",
       "      <th></th>\n",
       "      <th>investigator_first_name</th>\n",
       "      <th>investigator_last_name</th>\n",
       "      <th>org_name</th>\n",
       "    </tr>\n",
       "  </thead>\n",
       "  <tbody>\n",
       "    <tr>\n",
       "      <th>0</th>\n",
       "      <td>a paula</td>\n",
       "      <td>monaghan-nichols</td>\n",
       "      <td>university of pittsburgh at pittsburgh</td>\n",
       "    </tr>\n",
       "    <tr>\n",
       "      <th>1</th>\n",
       "      <td>aaron</td>\n",
       "      <td>barchowsky</td>\n",
       "      <td>university of pittsburgh at pittsburgh</td>\n",
       "    </tr>\n",
       "    <tr>\n",
       "      <th>2</th>\n",
       "      <td>aaron</td>\n",
       "      <td>batista</td>\n",
       "      <td>university of pittsburgh at pittsburgh</td>\n",
       "    </tr>\n",
       "    <tr>\n",
       "      <th>3</th>\n",
       "      <td>aatur</td>\n",
       "      <td>singhi</td>\n",
       "      <td>university of pittsburgh at pittsburgh</td>\n",
       "    </tr>\n",
       "    <tr>\n",
       "      <th>4</th>\n",
       "      <td>abby</td>\n",
       "      <td>olsen</td>\n",
       "      <td>university of pittsburgh at pittsburgh</td>\n",
       "    </tr>\n",
       "  </tbody>\n",
       "</table>\n",
       "</div>"
      ],
      "text/plain": [
       "  investigator_first_name investigator_last_name   \n",
       "0                 a paula       monaghan-nichols  \\\n",
       "1                   aaron             barchowsky   \n",
       "2                   aaron                batista   \n",
       "3                   aatur                 singhi   \n",
       "4                    abby                  olsen   \n",
       "\n",
       "                                 org_name  \n",
       "0  university of pittsburgh at pittsburgh  \n",
       "1  university of pittsburgh at pittsburgh  \n",
       "2  university of pittsburgh at pittsburgh  \n",
       "3  university of pittsburgh at pittsburgh  \n",
       "4  university of pittsburgh at pittsburgh  "
      ]
     },
     "execution_count": 5,
     "metadata": {},
     "output_type": "execute_result"
    }
   ],
   "source": [
    "import pandas as pd\n",
    "data = pd.read_csv(\"datasets/upitt_data.csv\")\n",
    "data.head()"
   ]
  },
  {
   "cell_type": "code",
   "execution_count": 7,
   "metadata": {},
   "outputs": [],
   "source": [
    "from langchain.prompts import PromptTemplate\n",
    "prompt = PromptTemplate(\n",
    "    input_variables=[\"first_name\",\"last_name\",\"org_name\"],\n",
    "    template = 'what is the email address and academic department of {first_name} {last_name} from {org_name}?'\n",
    ")"
   ]
  },
  {
   "cell_type": "code",
   "execution_count": 15,
   "metadata": {},
   "outputs": [
    {
     "name": "stdout",
     "output_type": "stream",
     "text": [
      "---- query f{i} ----\n",
      "---- query f{i} ----\n",
      "---- query f{i} ----\n",
      "---- query f{i} ----\n",
      "---- query f{i} ----\n"
     ]
    }
   ],
   "source": [
    "answers = []\n",
    "for i in range(5):\n",
    "    first_name = data.iloc[i]['investigator_first_name']\n",
    "    last_name = data.iloc[i][\"investigator_last_name\"]\n",
    "    org_name = data.iloc[i]['org_name']\n",
    "    query = f'what is the email address and academic department of {first_name} {last_name} from {org_name}?  organize this information into a dicionary with keys: \"first_name\", \"last_name\", \"email\" and \"department\".'\n",
    "    # query_prompt = prompt.format(first_name=first_name,last_name=last_name,org_name=org_name)\n",
    "    # print(query_prompt)\n",
    "    # print(llm(query_prompt))\n",
    "    \n",
    "    print(f'---- query {i} ----')\n",
    "    # print(query)\n",
    "    answer = agent.run(query)\n",
    "    answers.append(answer)"
   ]
  },
  {
   "cell_type": "code",
   "execution_count": 16,
   "metadata": {},
   "outputs": [
    {
     "data": {
      "text/plain": [
       "[\"{'first_name': 'Paula', 'last_name': 'Monaghan-Nichols', 'email': 'pmonaghan@pitt.edu', 'department': 'Biomedical Sciences'}\",\n",
       " \"{'first_name': 'Aaron', 'last_name': 'Barchowsky', 'email': 'aab20@pitt.edu', 'department': 'Environmental and Occupational Health'}\",\n",
       " 'Agent stopped due to iteration limit or time limit.',\n",
       " \"{'first_name': 'Aatur', 'last_name': 'Singhi', 'email': 'asinghi@pitt.edu', 'department': 'Division of Gastrointestinal Pathology Center of Excellence'}\",\n",
       " \"{'first_name': 'Abby', 'last_name': 'Olsen', 'email': 'abby.olsen@pitt.edu', 'department': 'Neurology'}\"]"
      ]
     },
     "execution_count": 16,
     "metadata": {},
     "output_type": "execute_result"
    }
   ],
   "source": [
    "answers "
   ]
  }
 ],
 "metadata": {
  "kernelspec": {
   "display_name": "langchain-tutorials-_3KVsnaY-py3.10",
   "language": "python",
   "name": "python3"
  },
  "language_info": {
   "codemirror_mode": {
    "name": "ipython",
    "version": 3
   },
   "file_extension": ".py",
   "mimetype": "text/x-python",
   "name": "python",
   "nbconvert_exporter": "python",
   "pygments_lexer": "ipython3",
   "version": "3.10.4"
  },
  "orig_nbformat": 4
 },
 "nbformat": 4,
 "nbformat_minor": 2
}
