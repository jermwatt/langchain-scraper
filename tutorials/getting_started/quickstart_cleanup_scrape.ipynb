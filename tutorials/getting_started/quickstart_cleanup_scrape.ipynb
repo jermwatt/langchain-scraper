{
 "cells": [
  {
   "cell_type": "code",
   "execution_count": 1,
   "metadata": {},
   "outputs": [],
   "source": [
    "from dotenv import load_dotenv\n",
    "import os\n",
    "\n",
    "def load_api_keys():\n",
    "    # Load variables from .env file into os.environ\n",
    "    load_dotenv()\n",
    "\n",
    "    # Get variables from os.environ\n",
    "    key = os.environ[\"OPENAI_API_KEY\"]\n",
    "    key = os.environ[\"AI21_API_KEY\"]\n",
    "    key = os.environ[\"SERPAPI_API_KEY\"]\n",
    "\n",
    "load_api_keys()"
   ]
  },
  {
   "cell_type": "code",
   "execution_count": 4,
   "metadata": {},
   "outputs": [],
   "source": [
    "from langchain.agents import load_tools\n",
    "from langchain.agents import initialize_agent\n",
    "from langchain.llms import OpenAI\n",
    "\n",
    "def set_agent():\n",
    "    # load llm with deterministic setting\n",
    "    llm = OpenAI(temperature=0)\n",
    "\n",
    "    # set tools\n",
    "    tools = load_tools([\"serpapi\"], llm=llm)\n",
    "\n",
    "    # set agent type\n",
    "    agent = initialize_agent(tools, llm, agent=\"zero-shot-react-description\", verbose=True)\n",
    "\n",
    "    return agent"
   ]
  },
  {
   "cell_type": "code",
   "execution_count": 5,
   "metadata": {},
   "outputs": [
    {
     "name": "stdout",
     "output_type": "stream",
     "text": [
      "what is the email address of cecile ladouceur from university of pittsburgh at pittsburgh?\n"
     ]
    }
   ],
   "source": [
    "first_name='cecile'\n",
    "last_name='ladouceur'\n",
    "org_name='UNIVERSITY OF PITTSBURGH AT PITTSBURGH'.lower()\n",
    "query =f'what is the email address of {first_name} {last_name} from {org_name}?'\n",
    "print(query)"
   ]
  },
  {
   "cell_type": "code",
   "execution_count": 9,
   "metadata": {},
   "outputs": [
    {
     "name": "stdout",
     "output_type": "stream",
     "text": [
      "what is the academic department of cecile ladouceur from university of pittsburgh at pittsburgh?  does this academic department have a website?\n"
     ]
    }
   ],
   "source": [
    "first_name='cecile'\n",
    "last_name='ladouceur'\n",
    "org_name='UNIVERSITY OF PITTSBURGH AT PITTSBURGH'.lower()\n",
    "query =f'what is the academic department of {first_name} {last_name} from {org_name}?  does this academic department have a website?'\n",
    "print(query)"
   ]
  },
  {
   "cell_type": "code",
   "execution_count": 10,
   "metadata": {},
   "outputs": [
    {
     "name": "stdout",
     "output_type": "stream",
     "text": [
      "\n",
      "\n",
      "\u001b[1m> Entering new AgentExecutor chain...\u001b[0m\n",
      "\u001b[32;1m\u001b[1;3m I need to find out what department cecile ladouceur is from and if it has a website.\n",
      "Action: Search\n",
      "Action Input: \"Cecile Ladouceur University of Pittsburgh\"\u001b[0m\n",
      "Observation: \u001b[36;1m\u001b[1;3mCecile D Ladouceur, PhD. Professor of Psychiatry and Psychology. Contact Details. 3811 O'Hara St. Pittsburgh. PA. 15213.\u001b[0m\n",
      "Thought:\u001b[32;1m\u001b[1;3m I need to find out what department she is a professor of.\n",
      "Action: Search\n",
      "Action Input: \"Cecile Ladouceur University of Pittsburgh Department\"\u001b[0m\n",
      "Observation: \u001b[36;1m\u001b[1;3mCecile D Ladouceur, PhD. Professor of Psychiatry and Psychology. Contact Details. 3811 O'Hara St. Pittsburgh. PA. 15213.\u001b[0m\n",
      "Thought:\u001b[32;1m\u001b[1;3m I need to find out if the department has a website.\n",
      "Action: Search\n",
      "Action Input: \"University of Pittsburgh Psychiatry and Psychology Department website\"\u001b[0m\n",
      "Observation: \u001b[36;1m\u001b[1;3mConsistently ranked among the top psychiatric departments and hospitals in the US, our Department and its flagship hospital, UPMC Western Psychiatric ...\u001b[0m\n",
      "Thought:\u001b[32;1m\u001b[1;3m I now know the final answer.\n",
      "Final Answer: The academic department of Cecile Ladouceur from the University of Pittsburgh at Pittsburgh is Psychiatry and Psychology, and the department has a website at https://www.psychiatry.pitt.edu/.\u001b[0m\n",
      "\n",
      "\u001b[1m> Finished chain.\u001b[0m\n"
     ]
    },
    {
     "data": {
      "text/plain": [
       "'The academic department of Cecile Ladouceur from the University of Pittsburgh at Pittsburgh is Psychiatry and Psychology, and the department has a website at https://www.psychiatry.pitt.edu/.'"
      ]
     },
     "execution_count": 10,
     "metadata": {},
     "output_type": "execute_result"
    }
   ],
   "source": [
    "# agent runs query\n",
    "agent.run(query)"
   ]
  }
 ],
 "metadata": {
  "kernelspec": {
   "display_name": "langchain-tutorials-_3KVsnaY-py3.10",
   "language": "python",
   "name": "python3"
  },
  "language_info": {
   "codemirror_mode": {
    "name": "ipython",
    "version": 3
   },
   "file_extension": ".py",
   "mimetype": "text/x-python",
   "name": "python",
   "nbconvert_exporter": "python",
   "pygments_lexer": "ipython3",
   "version": "3.10.4"
  },
  "orig_nbformat": 4
 },
 "nbformat": 4,
 "nbformat_minor": 2
}
