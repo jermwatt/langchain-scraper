{
 "cells": [
  {
   "cell_type": "code",
   "execution_count": 10,
   "metadata": {},
   "outputs": [
    {
     "name": "stdout",
     "output_type": "stream",
     "text": [
      "---- query 1 ----\n",
      "---- query 2 ----\n"
     ]
    }
   ],
   "source": [
    "from dotenv import load_dotenv\n",
    "import os, json\n",
    "import pandas as pd\n",
    "from langchain.agents import load_tools\n",
    "from langchain.agents import initialize_agent\n",
    "from langchain.llms import OpenAI, AI21\n",
    "\n",
    "# Load API keys from .env file\n",
    "def load_api_keys():\n",
    "    # Load variables from .env file into os.environ\n",
    "    load_dotenv()\n",
    "\n",
    "    # Get variables from os.environ\n",
    "    key = os.environ[\"OPENAI_API_KEY\"]\n",
    "    key = os.environ[\"AI21_API_KEY\"]\n",
    "    key = os.environ[\"SERPAPI_API_KEY\"]\n",
    "\n",
    "# Set LLM\n",
    "def set_llm():\n",
    "    # load llm with deterministic setting\n",
    "    llm = OpenAI(temperature=0)\n",
    "    # llm = AI21(temperature=0)\n",
    "\n",
    "    return llm\n",
    "\n",
    "# Set agent and tools\n",
    "def set_agent():\n",
    "    # load llm with deterministic setting\n",
    "    llm = OpenAI(temperature=0)\n",
    "    # llm = AI21(temperature=0)\n",
    "\n",
    "    # set tools\n",
    "    tools = load_tools([\"serpapi\"], llm=llm)\n",
    "\n",
    "    # set agent type\n",
    "    agent = initialize_agent(tools, llm, agent=\"zero-shot-react-description\", verbose=False)\n",
    "\n",
    "    return agent\n",
    "\n",
    "# from langchain.prompts import PromptTemplate\n",
    "# prompt = PromptTemplate(\n",
    "#     input_variables=[\"first_name\",\"last_name\",\"org_name\"],\n",
    "#     template = 'what is the email address and academic department of {first_name} {last_name} from {org_name}?'\n",
    "# )\n",
    "\n",
    "# translate answers to json\n",
    "def jsonify_answer(answer):\n",
    "    try:\n",
    "        answer = json.loads(answer.replace(\"'\", \"\\\"\"))\n",
    "        return answer\n",
    "    except:\n",
    "        return None\n",
    "\n",
    "def get_longform_answer(agent, first_name, last_name, org_name):\n",
    "    query = f'what is the email address and academic department of {first_name} {last_name} from {org_name}?  Organize the information in a dictionary.'\n",
    "    answer = agent.run(query)\n",
    "    return answer\n",
    "\n",
    "\n",
    "def sample_answers(agent,data):\n",
    "    all_answers = []\n",
    "    for i in range(2):\n",
    "        # get data\n",
    "        first_name = data.iloc[i]['investigator_first_name']\n",
    "        last_name = data.iloc[i][\"investigator_last_name\"]\n",
    "        org_name = data.iloc[i]['org_name']\n",
    "\n",
    "        # get answer\n",
    "        dict_answer = get_longform_answer(agent, first_name, last_name, org_name)\n",
    "\n",
    "        # jsonify answer\n",
    "        dict_answer = jsonify_answer(dict_answer)\n",
    "\n",
    "        # add to list\n",
    "        if dict_answer:\n",
    "            dict_answer['first_name'] = first_name\n",
    "            dict_answer['last_name'] = last_name\n",
    "            dict_answer['org_name'] = org_name\n",
    "            all_answers.append(dict_answer)\n",
    "        \n",
    "        # print progress\n",
    "        print(f'---- query {i+1} ----')\n",
    "\n",
    "    return all_answers\n",
    "\n",
    "\n",
    "\n",
    "# load api keys, initialize agent, and load data\n",
    "load_api_keys()\n",
    "llm= set_llm()\n",
    "agent = set_agent()\n",
    "\n",
    "# load data\n",
    "data = pd.read_csv(\"datasets/upitt_data.csv\")\n",
    "\n",
    "# get answers\n",
    "all_answers = sample_answers(agent,data)"
   ]
  },
  {
   "cell_type": "code",
   "execution_count": 11,
   "metadata": {},
   "outputs": [
    {
     "data": {
      "text/plain": [
       "[{'email': 'paula.monaghan-nichols@pitt.edu',\n",
       "  'department': 'Biomedical Sciences',\n",
       "  'first_name': 'a paula',\n",
       "  'last_name': 'monaghan-nichols',\n",
       "  'org_name': 'university of pittsburgh at pittsburgh'},\n",
       " {'email': 'abarchow@pitt.edu',\n",
       "  'department': 'Environmental and Occupational Health',\n",
       "  'first_name': 'aaron',\n",
       "  'last_name': 'barchowsky',\n",
       "  'org_name': 'university of pittsburgh at pittsburgh'}]"
      ]
     },
     "execution_count": 11,
     "metadata": {},
     "output_type": "execute_result"
    }
   ],
   "source": [
    "all_answers"
   ]
  },
  {
   "cell_type": "code",
   "execution_count": 12,
   "metadata": {},
   "outputs": [
    {
     "data": {
      "text/html": [
       "<div>\n",
       "<style scoped>\n",
       "    .dataframe tbody tr th:only-of-type {\n",
       "        vertical-align: middle;\n",
       "    }\n",
       "\n",
       "    .dataframe tbody tr th {\n",
       "        vertical-align: top;\n",
       "    }\n",
       "\n",
       "    .dataframe thead th {\n",
       "        text-align: right;\n",
       "    }\n",
       "</style>\n",
       "<table border=\"1\" class=\"dataframe\">\n",
       "  <thead>\n",
       "    <tr style=\"text-align: right;\">\n",
       "      <th></th>\n",
       "      <th>investigator_first_name</th>\n",
       "      <th>investigator_last_name</th>\n",
       "      <th>org_name</th>\n",
       "    </tr>\n",
       "  </thead>\n",
       "  <tbody>\n",
       "    <tr>\n",
       "      <th>0</th>\n",
       "      <td>a paula</td>\n",
       "      <td>monaghan-nichols</td>\n",
       "      <td>university of pittsburgh at pittsburgh</td>\n",
       "    </tr>\n",
       "    <tr>\n",
       "      <th>1</th>\n",
       "      <td>aaron</td>\n",
       "      <td>barchowsky</td>\n",
       "      <td>university of pittsburgh at pittsburgh</td>\n",
       "    </tr>\n",
       "  </tbody>\n",
       "</table>\n",
       "</div>"
      ],
      "text/plain": [
       "  investigator_first_name investigator_last_name   \n",
       "0                 a paula       monaghan-nichols  \\\n",
       "1                   aaron             barchowsky   \n",
       "\n",
       "                                 org_name  \n",
       "0  university of pittsburgh at pittsburgh  \n",
       "1  university of pittsburgh at pittsburgh  "
      ]
     },
     "execution_count": 12,
     "metadata": {},
     "output_type": "execute_result"
    }
   ],
   "source": [
    "data.head(2)"
   ]
  },
  {
   "cell_type": "code",
   "execution_count": null,
   "metadata": {},
   "outputs": [],
   "source": []
  }
 ],
 "metadata": {
  "kernelspec": {
   "display_name": "langchain-tutorials-_3KVsnaY-py3.10",
   "language": "python",
   "name": "python3"
  },
  "language_info": {
   "codemirror_mode": {
    "name": "ipython",
    "version": 3
   },
   "file_extension": ".py",
   "mimetype": "text/x-python",
   "name": "python",
   "nbconvert_exporter": "python",
   "pygments_lexer": "ipython3",
   "version": "3.10.4"
  },
  "orig_nbformat": 4
 },
 "nbformat": 4,
 "nbformat_minor": 2
}
