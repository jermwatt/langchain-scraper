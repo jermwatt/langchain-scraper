{
 "cells": [
  {
   "cell_type": "code",
   "execution_count": 11,
   "metadata": {},
   "outputs": [],
   "source": [
    "from dotenv import load_dotenv\n",
    "import os, json\n",
    "import pandas as pd\n",
    "from langchain.agents import load_tools\n",
    "from langchain.agents import initialize_agent\n",
    "from langchain.llms import OpenAI, AI21\n",
    "\n",
    "# Load API keys from .env file\n",
    "def load_api_keys():\n",
    "    # Load variables from .env file into os.environ\n",
    "    load_dotenv()\n",
    "\n",
    "    # Get variables from os.environ\n",
    "    key = os.environ[\"OPENAI_API_KEY\"]\n",
    "    key = os.environ[\"AI21_API_KEY\"]\n",
    "    key = os.environ[\"SERPAPI_API_KEY\"]\n",
    "\n",
    "# Set LLM\n",
    "def set_llm():\n",
    "    # load llm with deterministic setting\n",
    "    llm = OpenAI(temperature=0)\n",
    "    # llm = AI21(temperature=0)\n",
    "\n",
    "    return llm\n",
    "\n",
    "# Set agent and tools\n",
    "def set_agent():\n",
    "    # load llm with deterministic setting\n",
    "    llm = OpenAI(temperature=0)\n",
    "    # llm = AI21(temperature=0)\n",
    "\n",
    "    # set tools\n",
    "    tools = load_tools([\"serpapi\"], llm=llm)\n",
    "\n",
    "    # set agent type\n",
    "    agent = initialize_agent(tools, llm, agent=\"zero-shot-react-description\", verbose=False)\n",
    "\n",
    "    return agent\n",
    "\n",
    "# load data\n",
    "data = pd.read_csv(\"datasets/upitt_data.csv\")\n",
    "\n",
    "\n",
    "# from langchain.prompts import PromptTemplate\n",
    "# prompt = PromptTemplate(\n",
    "#     input_variables=[\"first_name\",\"last_name\",\"org_name\"],\n",
    "#     template = 'what is the email address and academic department of {first_name} {last_name} from {org_name}?'\n",
    "# )\n",
    "\n",
    "def get_longform_answer(agent, first_name, last_name, org_name):\n",
    "    query = f'what is the email address and academic department of {first_name} {last_name} from {org_name}?'\n",
    "    answer = agent.run(query)\n",
    "    return answer\n",
    "\n",
    "# load api keys, initialize agent, and load data\n",
    "load_api_keys()\n",
    "llm= set_llm()\n",
    "agent = set_agent()\n",
    "\n"
   ]
  },
  {
   "cell_type": "code",
   "execution_count": 17,
   "metadata": {},
   "outputs": [],
   "source": [
    "def sample_answers(agent,data):\n",
    "    longform_answers = []\n",
    "    dict_answers = []\n",
    "    for i in range(3):\n",
    "        # get data\n",
    "        first_name = data.iloc[i]['investigator_first_name']\n",
    "        last_name = data.iloc[i][\"investigator_last_name\"]\n",
    "        org_name = data.iloc[i]['org_name']\n",
    "\n",
    "        # get answer\n",
    "        longform_answer = get_longform_answer(agent, first_name, last_name, org_name)\n",
    "\n",
    "        # organize into dictionary\n",
    "        query = f'organize this into a dictionary with keys \"first_name\", \"last_name\", \"email\" and \"department\": {longform_answer}'\n",
    "        dict_answer = agent.run(query)\n",
    "        \n",
    "        # print progress\n",
    "        print(f'---- query {i+1} ----')\n",
    "        longform_answers.append(longform_answer)\n",
    "        dict_answers.append(dict_answer)\n",
    "    return longform_answers, dict_answers\n",
    "\n",
    "\n",
    "# translate answers to json\n",
    "def jsonify_answers(dict_answers):\n",
    "    jsonifyied_answers = []\n",
    "    for i, answer in enumerate(dict_answers):\n",
    "        try:\n",
    "            answer = json.loads(answer.replace(\"'\", \"\\\"\"))\n",
    "            jsonifyied_answers.append(answer)\n",
    "        except:\n",
    "            print(f'error in answer {i+1}')\n",
    "    return jsonifyied_answers"
   ]
  },
  {
   "cell_type": "code",
   "execution_count": 18,
   "metadata": {},
   "outputs": [
    {
     "name": "stdout",
     "output_type": "stream",
     "text": [
      "---- query 1 ----\n",
      "---- query 2 ----\n",
      "---- query 3 ----\n"
     ]
    }
   ],
   "source": [
    "longform_answers, dict_answers = sample_answers(agent,data)"
   ]
  },
  {
   "cell_type": "code",
   "execution_count": 19,
   "metadata": {},
   "outputs": [
    {
     "data": {
      "text/plain": [
       "['The email address and academic department of Paula Monaghan-Nichols from University of Pittsburgh at Pittsburgh is paula.monaghan-nichols@pitt.edu and Biomedical Sciences.',\n",
       " \"Aaron Barchowsky's email address is abarchow@pitt.edu and his academic department is Environmental and Occupational Health.\",\n",
       " \"Aaron Batista's email address is aaron.batista@pitt.edu and his academic department is Computer Science and Engineering.\"]"
      ]
     },
     "execution_count": 19,
     "metadata": {},
     "output_type": "execute_result"
    }
   ],
   "source": [
    "longform_answers "
   ]
  },
  {
   "cell_type": "code",
   "execution_count": 20,
   "metadata": {},
   "outputs": [
    {
     "data": {
      "text/plain": [
       "[\"{'first_name': 'Paula', 'last_name': 'Monaghan-Nichols', 'email': 'paula.monaghan-nichols@pitt.edu', 'department': 'Biomedical Sciences'}\",\n",
       " 'The code to create a dictionary with keys \"first_name\", \"last_name\", \"email\" and \"department\" is:\\n\\ndef create_dict(keys):\\n    return {key: None for key in keys}',\n",
       " \"{'first_name': 'Aaron', 'last_name': 'Batista', 'email': 'aaron.batista@pitt.edu', 'department': 'Computer Science and Engineering'}\"]"
      ]
     },
     "execution_count": 20,
     "metadata": {},
     "output_type": "execute_result"
    }
   ],
   "source": [
    "dict_answers"
   ]
  },
  {
   "cell_type": "code",
   "execution_count": 7,
   "metadata": {},
   "outputs": [],
   "source": []
  },
  {
   "cell_type": "code",
   "execution_count": 8,
   "metadata": {},
   "outputs": [
    {
     "data": {
      "text/plain": [
       "\"{'first_name': 'Paula', 'last_name': 'Monaghan-Nichols', 'email': 'paula.monaghan-nichols@pitt.edu', 'department': 'Biomedical Sciences'}\""
      ]
     },
     "execution_count": 8,
     "metadata": {},
     "output_type": "execute_result"
    }
   ],
   "source": [
    "dict_answer "
   ]
  },
  {
   "cell_type": "code",
   "execution_count": 27,
   "metadata": {},
   "outputs": [
    {
     "name": "stdout",
     "output_type": "stream",
     "text": [
      "---- query 1 ----\n"
     ]
    }
   ],
   "source": []
  },
  {
   "cell_type": "code",
   "execution_count": 26,
   "metadata": {},
   "outputs": [
    {
     "name": "stdout",
     "output_type": "stream",
     "text": [
      "---- answer 1 ----\n",
      "{'first_name': 'Paula', 'last_name': 'Monaghan-Nichols', 'email': 'pmonaghan@pitt.edu', 'department': 'Biomedical Sciences'}\n",
      "{'first_name': 'Paula', 'last_name': 'Monaghan-Nichols', 'email': 'pmonaghan@pitt.edu', 'department': 'Biomedical Sciences'}\n",
      "---- answer 2 ----\n",
      "{'first_name': 'Aaron', 'last_name': 'Barchowsky', 'email': 'aab20@pitt.edu', 'department': 'Environmental and Occupational Health'}\n",
      "{'first_name': 'Aaron', 'last_name': 'Barchowsky', 'email': 'aab20@pitt.edu', 'department': 'Environmental and Occupational Health'}\n"
     ]
    }
   ],
   "source": []
  },
  {
   "cell_type": "code",
   "execution_count": null,
   "metadata": {},
   "outputs": [],
   "source": []
  }
 ],
 "metadata": {
  "kernelspec": {
   "display_name": "langchain-tutorials-_3KVsnaY-py3.10",
   "language": "python",
   "name": "python3"
  },
  "language_info": {
   "codemirror_mode": {
    "name": "ipython",
    "version": 3
   },
   "file_extension": ".py",
   "mimetype": "text/x-python",
   "name": "python",
   "nbconvert_exporter": "python",
   "pygments_lexer": "ipython3",
   "version": "3.10.4"
  },
  "orig_nbformat": 4
 },
 "nbformat": 4,
 "nbformat_minor": 2
}
